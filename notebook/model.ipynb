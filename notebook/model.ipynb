{
 "cells": [
  {
   "cell_type": "code",
   "execution_count": 1,
   "id": "543f360d-1c5f-407b-8e80-e0321bae171b",
   "metadata": {},
   "outputs": [],
   "source": [
    "import pandas as pd\n",
    "import numpy as np\n",
    "import pickle\n",
    "from sklearn.linear_model import Ridge, LinearRegression\n",
    "from sklearn.pipeline import Pipeline\n",
    "from sklearn.preprocessing import StandardScaler, OneHotEncoder\n",
    "from sklearn.model_selection import train_test_split, RandomizedSearchCV\n",
    "from sklearn.compose import ColumnTransformer\n",
    "from sklearn.preprocessing import PolynomialFeatures\n"
   ]
  },
  {
   "cell_type": "code",
   "execution_count": 2,
   "id": "16c76427-9340-4a93-8248-4ee1d8053ad3",
   "metadata": {},
   "outputs": [],
   "source": [
    "raw = pd.read_csv('../data/raw/owid-co2-data.csv')"
   ]
  },
  {
   "cell_type": "code",
   "execution_count": 3,
   "id": "3cf2cb2a-cb9b-43d8-9e4a-a1cffff32316",
   "metadata": {},
   "outputs": [],
   "source": [
    "g7 = ['United Kingdom', 'Canada', 'Japan', 'France', 'Germany', 'Italy', 'United States']\n",
    "columns = ['year', 'country', 'gas_co2_per_capita', 'coal_co2_per_capita',\n",
    "           'oil_co2_per_capita', 'temperature_change_from_ghg']\n",
    "\n",
    "df = raw.dropna()\n",
    "df = df[df['country'].isin(g7)].filter(columns).reset_index()"
   ]
  },
  {
   "cell_type": "code",
   "execution_count": 4,
   "id": "ab3b4ee2-8a80-406b-bac0-6e26801b100c",
   "metadata": {},
   "outputs": [],
   "source": [
    "rename = {\n",
    "    'gas_co2_per_capita' : 'gas', \n",
    "    'coal_co2_per_capita' : 'coal', \n",
    "    'oil_co2_per_capita' : 'oil',\n",
    "    'temperature_change_from_ghg' : 'temp'\n",
    "}\n",
    "df = df.rename(columns=rename)\n",
    "df.drop(columns=['index'], inplace=True)\n",
    "\n",
    "df.to_csv('../data/processed/temperature.csv', index=False)"
   ]
  },
  {
   "cell_type": "code",
   "execution_count": 5,
   "id": "5cc3d640-40df-42d4-aca9-32401e94f70c",
   "metadata": {},
   "outputs": [],
   "source": [
    "X = df.drop(columns=['temp'])\n",
    "y = df['temp']"
   ]
  },
  {
   "cell_type": "code",
   "execution_count": 6,
   "id": "cc73945c-2775-4e22-b14d-f2cb9edcab5b",
   "metadata": {},
   "outputs": [],
   "source": [
    "categorical_features = [\"country\"]\n",
    "numerical_features = [\"year\", \"gas\", \"coal\", \"oil\"]\n",
    "\n",
    "# Preprocessing pipeline\n",
    "preprocessor = ColumnTransformer(\n",
    "    transformers=[\n",
    "        (\"num\", StandardScaler(), numerical_features),\n",
    "        (\"cat\", OneHotEncoder(handle_unknown=\"ignore\"), categorical_features),\n",
    "    ]\n",
    ")\n",
    "\n",
    "# Create pipeline\n",
    "pipeline = Pipeline([\n",
    "    (\"preprocessor\", preprocessor),\n",
    "    (\"regressor\", Ridge(positive=True, solver='lbfgs'))\n",
    "])"
   ]
  },
  {
   "cell_type": "code",
   "execution_count": 7,
   "id": "3feff014-f571-42f0-8438-1fa36a4a2814",
   "metadata": {},
   "outputs": [
    {
     "name": "stdout",
     "output_type": "stream",
     "text": [
      "Best Parameters: {'regressor__alpha': np.float64(0.009102981779915413)}\n"
     ]
    }
   ],
   "source": [
    "# Define hyperparameter search space\n",
    "param_distributions = {\n",
    "    \"regressor__alpha\": np.logspace(-100, 100)\n",
    "}\n",
    "\n",
    "# Perform Randomized Search\n",
    "random_search = RandomizedSearchCV(\n",
    "    pipeline, \n",
    "    param_distributions, \n",
    "    n_iter=20,\n",
    "    cv=5,\n",
    "    random_state=123,\n",
    "    n_jobs=-1\n",
    ")\n",
    "\n",
    "# Fit the model\n",
    "model = random_search.fit(X, y)\n",
    "\n",
    "# Print best parameters\n",
    "print(\"Best Parameters:\", random_search.best_params_)"
   ]
  },
  {
   "cell_type": "code",
   "execution_count": 8,
   "id": "232d06fc",
   "metadata": {},
   "outputs": [],
   "source": [
    "with open(\"model.pkl\", \"wb\") as file:\n",
    "    pickle.dump(model, file)"
   ]
  }
 ],
 "metadata": {
  "kernelspec": {
   "display_name": "streamlit",
   "language": "python",
   "name": "python3"
  },
  "language_info": {
   "codemirror_mode": {
    "name": "ipython",
    "version": 3
   },
   "file_extension": ".py",
   "mimetype": "text/x-python",
   "name": "python",
   "nbconvert_exporter": "python",
   "pygments_lexer": "ipython3",
   "version": "3.13.2"
  }
 },
 "nbformat": 4,
 "nbformat_minor": 5
}
